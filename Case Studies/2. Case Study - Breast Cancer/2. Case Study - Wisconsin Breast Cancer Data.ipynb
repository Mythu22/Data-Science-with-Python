{
 "cells": [
  {
   "cell_type": "markdown",
   "metadata": {},
   "source": [
    "# Practice - Breast Cancer Classification\n",
    "### Instructions\n",
    "- Some code has been written for you, most of it you practiced in the lessons\n",
    "- Feel free to add in your code and analysis, this is a practice exercise and you should try to implement your learnings\n",
    "- If something is not clear, go back to lessons, or the documentation page"
   ]
  },
  {
   "cell_type": "code",
   "execution_count": null,
   "metadata": {},
   "outputs": [],
   "source": [
    "import warnings\n",
    "warnings.filterwarnings('ignore')"
   ]
  },
  {
   "cell_type": "code",
   "execution_count": null,
   "metadata": {},
   "outputs": [],
   "source": [
    "import numpy as np\n",
    "import pandas as pd\n",
    "import matplotlib.pyplot as plt\n",
    "import seaborn as sns\n",
    "\n",
    "cancer = pd.read_csv('breast-cancer.csv') # import data\n",
    "cancer.head()"
   ]
  },
  {
   "cell_type": "markdown",
   "metadata": {},
   "source": [
    "### Exploratory Data Analysis\n",
    "When we begin our project we inspect our data for\n",
    " - Information about data, rows, columns, index etc\n",
    " - Statistical Summary\n",
    " - trends\n",
    " - distribution\n",
    " - important and unimportant features\n",
    " - any duplicate rows, missing data, outliers etc\n",
    "\n",
    "Do some exploratory data analysis using the techiques you learnt in your lessons\n",
    "\n",
    "*** Instructions***\n",
    "- You can use different plotting techniues to visualize your data : For example use seaborn's count plot to visualize the distribution of output classes\n",
    "\n",
    "- You can plot a histogram/boxplot/violin/swarm plot for different features distinguished by the output class, i.e malignant or benign \n",
    "\n",
    "  ( Hint : sns.violinplot(y = 'diagnosis', x = 'area_mean', hue = 'diagnosis', data = cancer)\n",
    "  \n",
    "  this code will tell you how the featue area_mean is connected to the cancer diagnosis, i.e what size are malignant ones and what size are benign ones)\n",
    "\n",
    "\n",
    "- Use the jointplot for inspecting if there is any linear relationship between two features. ( Hint : in jointplot set the 'kind' parameter as 'regg' for plotting a regression line. Read more on its documentation page\n",
    "\n",
    "- You can also use seaborn's pairplot"
   ]
  },
  {
   "cell_type": "code",
   "execution_count": null,
   "metadata": {},
   "outputs": [],
   "source": [
    "### Exploratory Data Analysis\n",
    "\n"
   ]
  },
  {
   "cell_type": "markdown",
   "metadata": {},
   "source": [
    "### Data Cleaning\n",
    " - Check for missing values\n",
    " - Check for duplicates\n",
    " - Check if the data types are right"
   ]
  },
  {
   "cell_type": "code",
   "execution_count": null,
   "metadata": {},
   "outputs": [],
   "source": [
    "# Data Cleaning\n"
   ]
  },
  {
   "cell_type": "markdown",
   "metadata": {},
   "source": [
    "### Feature Engineering\n",
    "- Split features and target\n",
    "- Create a heatmap\n",
    "- Study the correlation and select important features\n",
    "- Drop the extra and/or less important features\n",
    "- Apply feature scaling if necessary : To inspect that you can use the histogram/boxplot for checking any extremes data points\n",
    "- Apply PCA and set the dimensions you want for your new data"
   ]
  },
  {
   "cell_type": "code",
   "execution_count": null,
   "metadata": {},
   "outputs": [],
   "source": [
    "# Feature Engineering\n"
   ]
  },
  {
   "cell_type": "markdown",
   "metadata": {},
   "source": [
    "### Build Your Model\n",
    "- You can try different classifiers and compare their performance by their f1 score\n",
    "\n",
    "** Classifiers you can try :**\n",
    " - Random Forest\n",
    " - Support Vector Machines\n",
    " - Logistic Regression\n",
    " - kNN"
   ]
  },
  {
   "cell_type": "code",
   "execution_count": null,
   "metadata": {},
   "outputs": [],
   "source": [
    "'''Import you classifiers here'''\n",
    "\n",
    "\n",
    "from sklearn.metrics import accuracy_score\n",
    "from sklearn.metrics import f1_score\n",
    "from sklearn.model_selection import KFold # import kfold\n",
    "\n",
    "'''Build Your Model Below'''\n",
    "\n"
   ]
  }
 ],
 "metadata": {
  "kernelspec": {
   "display_name": "Python 3",
   "language": "python",
   "name": "python3"
  },
  "language_info": {
   "codemirror_mode": {
    "name": "ipython",
    "version": 3
   },
   "file_extension": ".py",
   "mimetype": "text/x-python",
   "name": "python",
   "nbconvert_exporter": "python",
   "pygments_lexer": "ipython3",
   "version": "3.6.5"
  }
 },
 "nbformat": 4,
 "nbformat_minor": 2
}
