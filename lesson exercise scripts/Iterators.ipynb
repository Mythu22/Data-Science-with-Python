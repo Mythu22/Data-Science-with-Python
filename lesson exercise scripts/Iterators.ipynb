{
 "cells": [
  {
   "cell_type": "code",
   "execution_count": 1,
   "metadata": {},
   "outputs": [
    {
     "name": "stdout",
     "output_type": "stream",
     "text": [
      "Player 1 Sachin\n",
      "Player 2 Rahul\n",
      "Player 3 Saurav\n"
     ]
    }
   ],
   "source": [
    "# iterating over dictioraries\n",
    "dict = {'Player 1' : 'Sachin', 'Player 2': 'Rahul', 'Player 3': 'Saurav'}\n",
    "\n",
    "for key, val in dict.items():\n",
    "    print(key, val)"
   ]
  },
  {
   "cell_type": "code",
   "execution_count": 2,
   "metadata": {},
   "outputs": [
    {
     "name": "stdout",
     "output_type": "stream",
     "text": [
      "0 iron man\n",
      "1 captain america\n",
      "2 thor\n",
      "3 hulk\n"
     ]
    }
   ],
   "source": [
    "# enumerate()\n",
    "\n",
    "avengers = ['iron man', 'captain america', 'thor', 'hulk']\n",
    "\n",
    "for index, val in enumerate(avengers):\n",
    "    print(index, val)"
   ]
  },
  {
   "cell_type": "code",
   "execution_count": 5,
   "metadata": {},
   "outputs": [
    {
     "name": "stdout",
     "output_type": "stream",
     "text": [
      "('iron man', 'tony') ('captain america', 'steve') ('thor', 'odinson') ('hulk', 'bruce')\n"
     ]
    }
   ],
   "source": [
    "# zip()\n",
    "\n",
    "name = ['tony', 'steve', 'odinson', 'bruce']\n",
    "z = zip(avengers, name)\n",
    "# print zip using *\n",
    "print(*z)"
   ]
  },
  {
   "cell_type": "code",
   "execution_count": 4,
   "metadata": {},
   "outputs": [
    {
     "name": "stdout",
     "output_type": "stream",
     "text": [
      "[('iron man', 'tony'), ('captain america', 'steve'), ('thor', 'odinson'), ('hulk', 'bruce')]\n"
     ]
    }
   ],
   "source": [
    "print(list(z))"
   ]
  },
  {
   "cell_type": "code",
   "execution_count": 6,
   "metadata": {},
   "outputs": [
    {
     "name": "stdout",
     "output_type": "stream",
     "text": [
      "iron man tony\n",
      "captain america steve\n",
      "thor odinson\n",
      "hulk bruce\n"
     ]
    }
   ],
   "source": [
    "# iterate over zip\n",
    "# useful when need to iterate over more than one list with corresponding items\n",
    "for i, j in zip(avengers, name):\n",
    "    print(i, j)"
   ]
  },
  {
   "cell_type": "code",
   "execution_count": null,
   "metadata": {},
   "outputs": [],
   "source": []
  }
 ],
 "metadata": {
  "kernelspec": {
   "display_name": "Python 3",
   "language": "python",
   "name": "python3"
  },
  "language_info": {
   "codemirror_mode": {
    "name": "ipython",
    "version": 3
   },
   "file_extension": ".py",
   "mimetype": "text/x-python",
   "name": "python",
   "nbconvert_exporter": "python",
   "pygments_lexer": "ipython3",
   "version": "3.6.5"
  }
 },
 "nbformat": 4,
 "nbformat_minor": 2
}
