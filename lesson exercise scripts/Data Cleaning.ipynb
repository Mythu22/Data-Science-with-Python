{
 "cells": [
  {
   "cell_type": "markdown",
   "metadata": {},
   "source": [
    "*** Cleaning our Data***\n",
    "- Prepare data for analysis\n",
    "- Data never comes clean\n",
    "- Diagnose data for problems"
   ]
  },
  {
   "cell_type": "code",
   "execution_count": 1,
   "metadata": {},
   "outputs": [
    {
     "data": {
      "text/html": [
       "<div>\n",
       "<style scoped>\n",
       "    .dataframe tbody tr th:only-of-type {\n",
       "        vertical-align: middle;\n",
       "    }\n",
       "\n",
       "    .dataframe tbody tr th {\n",
       "        vertical-align: top;\n",
       "    }\n",
       "\n",
       "    .dataframe thead th {\n",
       "        text-align: right;\n",
       "    }\n",
       "</style>\n",
       "<table border=\"1\" class=\"dataframe\">\n",
       "  <thead>\n",
       "    <tr style=\"text-align: right;\">\n",
       "      <th></th>\n",
       "      <th>Pregnancies</th>\n",
       "      <th>Glucose</th>\n",
       "      <th>BloodPressure</th>\n",
       "      <th>SkinThickness</th>\n",
       "      <th>Insulin</th>\n",
       "      <th>BMI</th>\n",
       "      <th>DiabetesPedigreeFunction</th>\n",
       "      <th>Age</th>\n",
       "      <th>Outcome</th>\n",
       "    </tr>\n",
       "  </thead>\n",
       "  <tbody>\n",
       "    <tr>\n",
       "      <th>0</th>\n",
       "      <td>6</td>\n",
       "      <td>148</td>\n",
       "      <td>72.0</td>\n",
       "      <td>35</td>\n",
       "      <td>0</td>\n",
       "      <td>33.6</td>\n",
       "      <td>0.627</td>\n",
       "      <td>50.0</td>\n",
       "      <td>1</td>\n",
       "    </tr>\n",
       "    <tr>\n",
       "      <th>1</th>\n",
       "      <td>1</td>\n",
       "      <td>85</td>\n",
       "      <td>66.0</td>\n",
       "      <td>29</td>\n",
       "      <td>0</td>\n",
       "      <td>26.6</td>\n",
       "      <td>0.351</td>\n",
       "      <td>31.0</td>\n",
       "      <td>0</td>\n",
       "    </tr>\n",
       "    <tr>\n",
       "      <th>2</th>\n",
       "      <td>8</td>\n",
       "      <td>183</td>\n",
       "      <td>64.0</td>\n",
       "      <td>0</td>\n",
       "      <td>0</td>\n",
       "      <td>23.3</td>\n",
       "      <td>0.672</td>\n",
       "      <td>32.0</td>\n",
       "      <td>1</td>\n",
       "    </tr>\n",
       "    <tr>\n",
       "      <th>3</th>\n",
       "      <td>1</td>\n",
       "      <td>89</td>\n",
       "      <td>66.0</td>\n",
       "      <td>23</td>\n",
       "      <td>94</td>\n",
       "      <td>28.1</td>\n",
       "      <td>0.167</td>\n",
       "      <td>21.0</td>\n",
       "      <td>0</td>\n",
       "    </tr>\n",
       "    <tr>\n",
       "      <th>4</th>\n",
       "      <td>0</td>\n",
       "      <td>137</td>\n",
       "      <td>40.0</td>\n",
       "      <td>35</td>\n",
       "      <td>168</td>\n",
       "      <td>43.1</td>\n",
       "      <td>2.288</td>\n",
       "      <td>33.0</td>\n",
       "      <td>1</td>\n",
       "    </tr>\n",
       "    <tr>\n",
       "      <th>5</th>\n",
       "      <td>5</td>\n",
       "      <td>116</td>\n",
       "      <td>74.0</td>\n",
       "      <td>0</td>\n",
       "      <td>0</td>\n",
       "      <td>25.6</td>\n",
       "      <td>0.201</td>\n",
       "      <td>30.0</td>\n",
       "      <td>0</td>\n",
       "    </tr>\n",
       "    <tr>\n",
       "      <th>6</th>\n",
       "      <td>3</td>\n",
       "      <td>78</td>\n",
       "      <td>50.0</td>\n",
       "      <td>32</td>\n",
       "      <td>88</td>\n",
       "      <td>31</td>\n",
       "      <td>0.248</td>\n",
       "      <td>26.0</td>\n",
       "      <td>1</td>\n",
       "    </tr>\n",
       "    <tr>\n",
       "      <th>7</th>\n",
       "      <td>10</td>\n",
       "      <td>115</td>\n",
       "      <td>0.0</td>\n",
       "      <td>0</td>\n",
       "      <td>0</td>\n",
       "      <td>Nan</td>\n",
       "      <td>0.134</td>\n",
       "      <td>29.0</td>\n",
       "      <td>0</td>\n",
       "    </tr>\n",
       "    <tr>\n",
       "      <th>8</th>\n",
       "      <td>2</td>\n",
       "      <td>197</td>\n",
       "      <td>70.0</td>\n",
       "      <td>45</td>\n",
       "      <td>543</td>\n",
       "      <td>30.5</td>\n",
       "      <td>Nan</td>\n",
       "      <td>53.0</td>\n",
       "      <td>1</td>\n",
       "    </tr>\n",
       "    <tr>\n",
       "      <th>9</th>\n",
       "      <td>8</td>\n",
       "      <td>125</td>\n",
       "      <td>96.0</td>\n",
       "      <td>0</td>\n",
       "      <td>0</td>\n",
       "      <td>0</td>\n",
       "      <td>0.232</td>\n",
       "      <td>54.0</td>\n",
       "      <td>1</td>\n",
       "    </tr>\n",
       "  </tbody>\n",
       "</table>\n",
       "</div>"
      ],
      "text/plain": [
       "  Pregnancies Glucose  BloodPressure SkinThickness Insulin   BMI  \\\n",
       "0           6     148           72.0            35       0  33.6   \n",
       "1           1      85           66.0            29       0  26.6   \n",
       "2           8     183           64.0             0       0  23.3   \n",
       "3           1      89           66.0            23      94  28.1   \n",
       "4           0     137           40.0            35     168  43.1   \n",
       "5           5     116           74.0             0       0  25.6   \n",
       "6           3      78           50.0            32      88    31   \n",
       "7          10     115            0.0             0       0   Nan   \n",
       "8           2     197           70.0            45     543  30.5   \n",
       "9           8     125           96.0             0       0     0   \n",
       "\n",
       "  DiabetesPedigreeFunction   Age  Outcome  \n",
       "0                    0.627  50.0        1  \n",
       "1                    0.351  31.0        0  \n",
       "2                    0.672  32.0        1  \n",
       "3                    0.167  21.0        0  \n",
       "4                    2.288  33.0        1  \n",
       "5                    0.201  30.0        0  \n",
       "6                    0.248  26.0        1  \n",
       "7                    0.134  29.0        0  \n",
       "8                      Nan  53.0        1  \n",
       "9                    0.232  54.0        1  "
      ]
     },
     "execution_count": 1,
     "metadata": {},
     "output_type": "execute_result"
    }
   ],
   "source": [
    "import pandas as pd\n",
    "import numpy as np\n",
    "\n",
    "data = pd.read_csv('diabetes.csv')\n",
    "data.head(10)"
   ]
  },
  {
   "cell_type": "code",
   "execution_count": 2,
   "metadata": {},
   "outputs": [
    {
     "name": "stdout",
     "output_type": "stream",
     "text": [
      "<class 'pandas.core.frame.DataFrame'>\n",
      "RangeIndex: 768 entries, 0 to 767\n",
      "Data columns (total 9 columns):\n",
      "Pregnancies                 768 non-null object\n",
      "Glucose                     766 non-null object\n",
      "BloodPressure               754 non-null float64\n",
      "SkinThickness               750 non-null object\n",
      "Insulin                     767 non-null object\n",
      "BMI                         749 non-null object\n",
      "DiabetesPedigreeFunction    767 non-null object\n",
      "Age                         756 non-null float64\n",
      "Outcome                     768 non-null int64\n",
      "dtypes: float64(2), int64(1), object(6)\n",
      "memory usage: 36.0+ KB\n"
     ]
    }
   ],
   "source": [
    "data.info()"
   ]
  },
  {
   "cell_type": "code",
   "execution_count": 3,
   "metadata": {},
   "outputs": [
    {
     "name": "stdout",
     "output_type": "stream",
     "text": [
      "<class 'pandas.core.frame.DataFrame'>\n",
      "RangeIndex: 768 entries, 0 to 767\n",
      "Data columns (total 9 columns):\n",
      "Pregnancies                 767 non-null float64\n",
      "Glucose                     765 non-null float64\n",
      "BloodPressure               754 non-null float64\n",
      "SkinThickness               748 non-null float64\n",
      "Insulin                     765 non-null float64\n",
      "BMI                         748 non-null float64\n",
      "DiabetesPedigreeFunction    765 non-null float64\n",
      "Age                         756 non-null float64\n",
      "Outcome                     768 non-null float64\n",
      "dtypes: float64(9)\n",
      "memory usage: 54.0 KB\n"
     ]
    }
   ],
   "source": [
    "# change our dtype\n",
    "data = data.astype('float64')\n",
    "data.info()"
   ]
  },
  {
   "cell_type": "code",
   "execution_count": 5,
   "metadata": {},
   "outputs": [
    {
     "data": {
      "image/png": "[encoded data removed]",
      "text/plain": [
       "<Figure size 432x288 with 1 Axes>"
      ]
     },
     "metadata": {},
     "output_type": "display_data"
    }
   ],
   "source": [
    "# check for outliers\n",
    "# using histograms, scatter plot, box plot\n",
    "import matplotlib.pyplot as plt\n",
    "\n",
    "data.Glucose.plot('hist', bins = 50)\n",
    "plt.show()"
   ]
  },
  {
   "cell_type": "code",
   "execution_count": 6,
   "metadata": {},
   "outputs": [
    {
     "data": {
      "image/png": "[encoded data removed]",
      "text/plain": [
       "<Figure size 1080x576 with 1 Axes>"
      ]
     },
     "metadata": {},
     "output_type": "display_data"
    }
   ],
   "source": [
    "plt.figure(figsize = (15, 8))\n",
    "data.boxplot()\n",
    "plt.show()"
   ]
  },
  {
   "cell_type": "code",
   "execution_count": 7,
   "metadata": {},
   "outputs": [
    {
     "data": {
      "image/png": "[encoded data removed]",
      "text/plain": [
       "<Figure size 432x288 with 1 Axes>"
      ]
     },
     "metadata": {},
     "output_type": "display_data"
    }
   ],
   "source": [
    "data.plot.scatter('Glucose', 'BloodPressure')\n",
    "plt.show()"
   ]
  },
  {
   "cell_type": "code",
   "execution_count": 8,
   "metadata": {},
   "outputs": [
    {
     "data": {
      "text/html": [
       "<div>\n",
       "<style scoped>\n",
       "    .dataframe tbody tr th:only-of-type {\n",
       "        vertical-align: middle;\n",
       "    }\n",
       "\n",
       "    .dataframe tbody tr th {\n",
       "        vertical-align: top;\n",
       "    }\n",
       "\n",
       "    .dataframe thead th {\n",
       "        text-align: right;\n",
       "    }\n",
       "</style>\n",
       "<table border=\"1\" class=\"dataframe\">\n",
       "  <thead>\n",
       "    <tr style=\"text-align: right;\">\n",
       "      <th></th>\n",
       "      <th>Pregnancies</th>\n",
       "      <th>Glucose</th>\n",
       "      <th>BloodPressure</th>\n",
       "      <th>SkinThickness</th>\n",
       "      <th>Insulin</th>\n",
       "      <th>BMI</th>\n",
       "      <th>DiabetesPedigreeFunction</th>\n",
       "      <th>Age</th>\n",
       "      <th>Outcome</th>\n",
       "    </tr>\n",
       "  </thead>\n",
       "  <tbody>\n",
       "    <tr>\n",
       "      <th>Pregnancies</th>\n",
       "      <td>1.000000</td>\n",
       "      <td>0.125385</td>\n",
       "      <td>0.139982</td>\n",
       "      <td>-0.079371</td>\n",
       "      <td>-0.073129</td>\n",
       "      <td>0.025678</td>\n",
       "      <td>-0.033299</td>\n",
       "      <td>0.544119</td>\n",
       "      <td>0.226140</td>\n",
       "    </tr>\n",
       "    <tr>\n",
       "      <th>Glucose</th>\n",
       "      <td>0.125385</td>\n",
       "      <td>1.000000</td>\n",
       "      <td>0.155865</td>\n",
       "      <td>0.070785</td>\n",
       "      <td>0.332409</td>\n",
       "      <td>0.224777</td>\n",
       "      <td>0.138921</td>\n",
       "      <td>0.257863</td>\n",
       "      <td>0.465580</td>\n",
       "    </tr>\n",
       "    <tr>\n",
       "      <th>BloodPressure</th>\n",
       "      <td>0.139982</td>\n",
       "      <td>0.155865</td>\n",
       "      <td>1.000000</td>\n",
       "      <td>0.219247</td>\n",
       "      <td>0.094981</td>\n",
       "      <td>0.299468</td>\n",
       "      <td>0.043596</td>\n",
       "      <td>0.235265</td>\n",
       "      <td>0.057848</td>\n",
       "    </tr>\n",
       "    <tr>\n",
       "      <th>SkinThickness</th>\n",
       "      <td>-0.079371</td>\n",
       "      <td>0.070785</td>\n",
       "      <td>0.219247</td>\n",
       "      <td>1.000000</td>\n",
       "      <td>0.437107</td>\n",
       "      <td>0.384661</td>\n",
       "      <td>0.185742</td>\n",
       "      <td>-0.110474</td>\n",
       "      <td>0.072683</td>\n",
       "    </tr>\n",
       "    <tr>\n",
       "      <th>Insulin</th>\n",
       "      <td>-0.073129</td>\n",
       "      <td>0.332409</td>\n",
       "      <td>0.094981</td>\n",
       "      <td>0.437107</td>\n",
       "      <td>1.000000</td>\n",
       "      <td>0.196214</td>\n",
       "      <td>0.191542</td>\n",
       "      <td>-0.047513</td>\n",
       "      <td>0.128224</td>\n",
       "    </tr>\n",
       "    <tr>\n",
       "      <th>BMI</th>\n",
       "      <td>0.025678</td>\n",
       "      <td>0.224777</td>\n",
       "      <td>0.299468</td>\n",
       "      <td>0.384661</td>\n",
       "      <td>0.196214</td>\n",
       "      <td>1.000000</td>\n",
       "      <td>0.141069</td>\n",
       "      <td>0.043822</td>\n",
       "      <td>0.295818</td>\n",
       "    </tr>\n",
       "    <tr>\n",
       "      <th>DiabetesPedigreeFunction</th>\n",
       "      <td>-0.033299</td>\n",
       "      <td>0.138921</td>\n",
       "      <td>0.043596</td>\n",
       "      <td>0.185742</td>\n",
       "      <td>0.191542</td>\n",
       "      <td>0.141069</td>\n",
       "      <td>1.000000</td>\n",
       "      <td>0.034767</td>\n",
       "      <td>0.176191</td>\n",
       "    </tr>\n",
       "    <tr>\n",
       "      <th>Age</th>\n",
       "      <td>0.544119</td>\n",
       "      <td>0.257863</td>\n",
       "      <td>0.235265</td>\n",
       "      <td>-0.110474</td>\n",
       "      <td>-0.047513</td>\n",
       "      <td>0.043822</td>\n",
       "      <td>0.034767</td>\n",
       "      <td>1.000000</td>\n",
       "      <td>0.233139</td>\n",
       "    </tr>\n",
       "    <tr>\n",
       "      <th>Outcome</th>\n",
       "      <td>0.226140</td>\n",
       "      <td>0.465580</td>\n",
       "      <td>0.057848</td>\n",
       "      <td>0.072683</td>\n",
       "      <td>0.128224</td>\n",
       "      <td>0.295818</td>\n",
       "      <td>0.176191</td>\n",
       "      <td>0.233139</td>\n",
       "      <td>1.000000</td>\n",
       "    </tr>\n",
       "  </tbody>\n",
       "</table>\n",
       "</div>"
      ],
      "text/plain": [
       "                          Pregnancies   Glucose  BloodPressure  SkinThickness  \\\n",
       "Pregnancies                  1.000000  0.125385       0.139982      -0.079371   \n",
       "Glucose                      0.125385  1.000000       0.155865       0.070785   \n",
       "BloodPressure                0.139982  0.155865       1.000000       0.219247   \n",
       "SkinThickness               -0.079371  0.070785       0.219247       1.000000   \n",
       "Insulin                     -0.073129  0.332409       0.094981       0.437107   \n",
       "BMI                          0.025678  0.224777       0.299468       0.384661   \n",
       "DiabetesPedigreeFunction    -0.033299  0.138921       0.043596       0.185742   \n",
       "Age                          0.544119  0.257863       0.235265      -0.110474   \n",
       "Outcome                      0.226140  0.465580       0.057848       0.072683   \n",
       "\n",
       "                           Insulin       BMI  DiabetesPedigreeFunction  \\\n",
       "Pregnancies              -0.073129  0.025678                 -0.033299   \n",
       "Glucose                   0.332409  0.224777                  0.138921   \n",
       "BloodPressure             0.094981  0.299468                  0.043596   \n",
       "SkinThickness             0.437107  0.384661                  0.185742   \n",
       "Insulin                   1.000000  0.196214                  0.191542   \n",
       "BMI                       0.196214  1.000000                  0.141069   \n",
       "DiabetesPedigreeFunction  0.191542  0.141069                  1.000000   \n",
       "Age                      -0.047513  0.043822                  0.034767   \n",
       "Outcome                   0.128224  0.295818                  0.176191   \n",
       "\n",
       "                               Age   Outcome  \n",
       "Pregnancies               0.544119  0.226140  \n",
       "Glucose                   0.257863  0.465580  \n",
       "BloodPressure             0.235265  0.057848  \n",
       "SkinThickness            -0.110474  0.072683  \n",
       "Insulin                  -0.047513  0.128224  \n",
       "BMI                       0.043822  0.295818  \n",
       "DiabetesPedigreeFunction  0.034767  0.176191  \n",
       "Age                       1.000000  0.233139  \n",
       "Outcome                   0.233139  1.000000  "
      ]
     },
     "execution_count": 8,
     "metadata": {},
     "output_type": "execute_result"
    }
   ],
   "source": [
    "data.corr()"
   ]
  },
  {
   "cell_type": "code",
   "execution_count": 10,
   "metadata": {},
   "outputs": [
    {
     "name": "stdout",
     "output_type": "stream",
     "text": [
      "<class 'pandas.core.frame.DataFrame'>\n",
      "Int64Index: 766 entries, 0 to 767\n",
      "Data columns (total 9 columns):\n",
      "Pregnancies                 765 non-null float64\n",
      "Glucose                     763 non-null float64\n",
      "BloodPressure               752 non-null float64\n",
      "SkinThickness               746 non-null float64\n",
      "Insulin                     763 non-null float64\n",
      "BMI                         746 non-null float64\n",
      "DiabetesPedigreeFunction    763 non-null float64\n",
      "Age                         754 non-null float64\n",
      "Outcome                     766 non-null float64\n",
      "dtypes: float64(9)\n",
      "memory usage: 59.8 KB\n"
     ]
    }
   ],
   "source": [
    "# drop duplicate data using .drop_duplicates() method\n",
    "data = data.drop_duplicates()\n",
    "data.info()"
   ]
  },
  {
   "cell_type": "markdown",
   "metadata": {},
   "source": [
    "***Missing Data***\n",
    "- Drop them\n",
    "- Fill Missing Values"
   ]
  },
  {
   "cell_type": "code",
   "execution_count": 14,
   "metadata": {},
   "outputs": [
    {
     "name": "stdout",
     "output_type": "stream",
     "text": [
      "<class 'pandas.core.frame.DataFrame'>\n",
      "Int64Index: 693 entries, 0 to 767\n",
      "Data columns (total 9 columns):\n",
      "Pregnancies                 693 non-null float64\n",
      "Glucose                     693 non-null float64\n",
      "BloodPressure               693 non-null float64\n",
      "SkinThickness               693 non-null float64\n",
      "Insulin                     693 non-null float64\n",
      "BMI                         693 non-null float64\n",
      "DiabetesPedigreeFunction    693 non-null float64\n",
      "Age                         693 non-null float64\n",
      "Outcome                     693 non-null float64\n",
      "dtypes: float64(9)\n",
      "memory usage: 54.1 KB\n"
     ]
    }
   ],
   "source": [
    "# drop missing values\n",
    "data_2 = data.dropna()\n",
    "data_2.info()"
   ]
  },
  {
   "cell_type": "code",
   "execution_count": 15,
   "metadata": {},
   "outputs": [],
   "source": [
    "# fill missing values using fillna()\n",
    "# fill missing values for age column with the mean age value\n",
    "mean_value = data['Age'].mean()\n",
    "data['Age'] = data['Age'].fillna(mean_value)"
   ]
  },
  {
   "cell_type": "code",
   "execution_count": 16,
   "metadata": {},
   "outputs": [
    {
     "name": "stdout",
     "output_type": "stream",
     "text": [
      "<class 'pandas.core.frame.DataFrame'>\n",
      "Int64Index: 766 entries, 0 to 767\n",
      "Data columns (total 9 columns):\n",
      "Pregnancies                 766 non-null float64\n",
      "Glucose                     766 non-null float64\n",
      "BloodPressure               766 non-null float64\n",
      "SkinThickness               766 non-null float64\n",
      "Insulin                     766 non-null float64\n",
      "BMI                         766 non-null float64\n",
      "DiabetesPedigreeFunction    766 non-null float64\n",
      "Age                         766 non-null float64\n",
      "Outcome                     766 non-null float64\n",
      "dtypes: float64(9)\n",
      "memory usage: 59.8 KB\n"
     ]
    }
   ],
   "source": [
    "# fill missing values with forward fill\n",
    "data.fillna(method = 'ffill', inplace = True)\n",
    "data.info()"
   ]
  },
  {
   "cell_type": "code",
   "execution_count": null,
   "metadata": {},
   "outputs": [],
   "source": []
  }
 ],
 "metadata": {
  "kernelspec": {
   "display_name": "Python 3",
   "language": "python",
   "name": "python3"
  },
  "language_info": {
   "codemirror_mode": {
    "name": "ipython",
    "version": 3
   },
   "file_extension": ".py",
   "mimetype": "text/x-python",
   "name": "python",
   "nbconvert_exporter": "python",
   "pygments_lexer": "ipython3",
   "version": "3.6.5"
  }
 },
 "nbformat": 4,
 "nbformat_minor": 2
}
