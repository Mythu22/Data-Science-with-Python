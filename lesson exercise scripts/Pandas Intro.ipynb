{
 "cells": [
  {
   "cell_type": "markdown",
   "metadata": {},
   "source": [
    "### Pandas DataFrame\n",
    "*** df = pd.DataFrame(data, index = index, columns = columns) ***\n",
    "\n",
    "**Create a DataFrame**\n",
    " - from a dictionary\n",
    " - from a list\n",
    " - from ndarray\n",
    " - another dataframe"
   ]
  },
  {
   "cell_type": "code",
   "execution_count": 5,
   "metadata": {},
   "outputs": [
    {
     "name": "stdout",
     "output_type": "stream",
     "text": [
      "          Age   Name\n",
      "Person 1   28    Tom\n",
      "Person 2   34   Jack\n",
      "Person 3   29  Steve\n",
      "Person 4   42  Ricky\n"
     ]
    }
   ],
   "source": [
    "import numpy as np\n",
    "import pandas as pd\n",
    "\n",
    "# create a dataframe from a dictionary\n",
    "\n",
    "data = {'Name':['Tom', 'Jack', 'Steve', 'Ricky'],'Age':[28,34,29,42]}\n",
    "df = pd.DataFrame(data, index=['Person 1','Person 2','Person 3','Person 4'])\n",
    "print(df)"
   ]
  },
  {
   "cell_type": "code",
   "execution_count": 7,
   "metadata": {},
   "outputs": [
    {
     "name": "stdout",
     "output_type": "stream",
     "text": [
      "            Name  Age\n",
      "Person 1    Alex   10\n",
      "Person 2     Bob   12\n",
      "Person 3  Clarke   13\n",
      "Person 4   Ricky   15\n"
     ]
    }
   ],
   "source": [
    "# create a dataframe from a list\n",
    "\n",
    "data = [['Alex',10],['Bob',12],['Clarke',13], ['Ricky', 15]]\n",
    "df = pd.DataFrame(data, index = ['Person 1','Person 2','Person 3','Person 4'], columns=['Name','Age'])\n",
    "print(df)"
   ]
  },
  {
   "cell_type": "markdown",
   "metadata": {},
   "source": [
    "### Selecting a Column"
   ]
  },
  {
   "cell_type": "code",
   "execution_count": 11,
   "metadata": {},
   "outputs": [
    {
     "data": {
      "text/plain": [
       "Person 1    10\n",
       "Person 2    12\n",
       "Person 3    13\n",
       "Person 4    15\n",
       "Name: Age, dtype: int64"
      ]
     },
     "execution_count": 11,
     "metadata": {},
     "output_type": "execute_result"
    }
   ],
   "source": [
    "df.Age"
   ]
  },
  {
   "cell_type": "markdown",
   "metadata": {},
   "source": [
    "### Add a Column"
   ]
  },
  {
   "cell_type": "code",
   "execution_count": 13,
   "metadata": {},
   "outputs": [
    {
     "name": "stdout",
     "output_type": "stream",
     "text": [
      "            Name  Age     Hobby\n",
      "Person 1    Alex   10   Footbal\n",
      "Person 2     Bob   12  Baseball\n",
      "Person 3  Clarke   13  Swimming\n",
      "Person 4   Ricky   15   Dancing\n"
     ]
    }
   ],
   "source": [
    "df['Hobby'] = ['Footbal', 'Baseball', 'Swimming', 'Dancing']\n",
    "print(df)"
   ]
  },
  {
   "cell_type": "markdown",
   "metadata": {},
   "source": [
    "### Indexing and Slicing"
   ]
  },
  {
   "cell_type": "code",
   "execution_count": 14,
   "metadata": {},
   "outputs": [
    {
     "name": "stdout",
     "output_type": "stream",
     "text": [
      "            Name  Age     Hobby\n",
      "Person 2     Bob   12  Baseball\n",
      "Person 3  Clarke   13  Swimming\n"
     ]
    }
   ],
   "source": [
    "print(df.iloc[1:3])"
   ]
  },
  {
   "cell_type": "code",
   "execution_count": 15,
   "metadata": {},
   "outputs": [
    {
     "name": "stdout",
     "output_type": "stream",
     "text": [
      "            Name  Age     Hobby\n",
      "Person 1    Alex   10   Footbal\n",
      "Person 2     Bob   12  Baseball\n",
      "Person 3  Clarke   13  Swimming\n"
     ]
    }
   ],
   "source": [
    "print(df.loc['Person 1':'Person 3'])"
   ]
  },
  {
   "cell_type": "code",
   "execution_count": 17,
   "metadata": {},
   "outputs": [
    {
     "name": "stdout",
     "output_type": "stream",
     "text": [
      "            Name  Age     Hobby\n",
      "Person 2     Bob   12  Baseball\n",
      "Person 3  Clarke   13  Swimming\n"
     ]
    }
   ],
   "source": [
    "# rows can also be sliced using ':' operator directly\n",
    "print(df[1:3])"
   ]
  },
  {
   "cell_type": "code",
   "execution_count": null,
   "metadata": {},
   "outputs": [],
   "source": []
  }
 ],
 "metadata": {
  "kernelspec": {
   "display_name": "Python 3",
   "language": "python",
   "name": "python3"
  },
  "language_info": {
   "codemirror_mode": {
    "name": "ipython",
    "version": 3
   },
   "file_extension": ".py",
   "mimetype": "text/x-python",
   "name": "python",
   "nbconvert_exporter": "python",
   "pygments_lexer": "ipython3",
   "version": "3.6.5"
  }
 },
 "nbformat": 4,
 "nbformat_minor": 2
}
