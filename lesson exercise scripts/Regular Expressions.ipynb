{
 "cells": [
  {
   "cell_type": "markdown",
   "metadata": {},
   "source": [
    "** Using Regular Expressions**\n",
    "\n",
    "\n",
    "- \\d : Matches any decimal digit; this is equivalent to the class [0-9].\n",
    "\n",
    "- \\D : Matches any non-digit character; this is equivalent to the class [^0-9].\n",
    "\n",
    "- \\s : Matches any whitespace character; this is equivalent to the class [ \\t\\n\\r\\f\\v].\n",
    "\n",
    "- \\S : Matches any non-whitespace character; this is equivalent to the class [^ \\t\\n\\r\\f\\v].\n",
    "\n",
    "- \\w : Matches any alphanumeric character; this is equivalent to the class [a-zA-Z0-9_].\n",
    "\n",
    "- \\W : Matches any non-alphanumeric character; this is equivalent to the class [^a-zA-Z0-9_].\n",
    "\n",
    "- '$' : Matches the end of the string or just before the newline at the end of the string\n",
    "\n",
    "\n",
    "for a complete list of sequence visit the python documentation"
   ]
  },
  {
   "cell_type": "markdown",
   "metadata": {},
   "source": [
    "** Various Methods of Regular Expressions**\n",
    "\n",
    "- re.match()\n",
    "- re.search()\n",
    "- re.findall()\n",
    "- re.split()\n",
    "- re.compile()"
   ]
  },
  {
   "cell_type": "code",
   "execution_count": 1,
   "metadata": {},
   "outputs": [],
   "source": [
    "import re"
   ]
  },
  {
   "cell_type": "code",
   "execution_count": 2,
   "metadata": {},
   "outputs": [
    {
     "name": "stdout",
     "output_type": "stream",
     "text": [
      "Vs\n"
     ]
    }
   ],
   "source": [
    "# re.match(pattern, string)\n",
    "result = re.match(r'Vs', 'Vskill Certifications')\n",
    "print(result.group(0))"
   ]
  },
  {
   "cell_type": "code",
   "execution_count": 3,
   "metadata": {},
   "outputs": [
    {
     "name": "stdout",
     "output_type": "stream",
     "text": [
      "skill\n"
     ]
    }
   ],
   "source": [
    "# re.search(patter, string)\n",
    "result = re.search(r'skill', 'Vskill Certification')\n",
    "print(result.group(0))"
   ]
  },
  {
   "cell_type": "code",
   "execution_count": 4,
   "metadata": {},
   "outputs": [
    {
     "name": "stdout",
     "output_type": "stream",
     "text": [
      "['i', 'i', 'i', 'i']\n"
     ]
    }
   ],
   "source": [
    "result = re.findall(r'i', 'Vskill Certification')\n",
    "print(result)"
   ]
  },
  {
   "cell_type": "code",
   "execution_count": 5,
   "metadata": {},
   "outputs": [
    {
     "name": "stdout",
     "output_type": "stream",
     "text": [
      "['Vskill', 'Certification']\n"
     ]
    }
   ],
   "source": [
    "result = re.split(r' ', 'Vskill Certification')\n",
    "print(result)"
   ]
  },
  {
   "cell_type": "code",
   "execution_count": 6,
   "metadata": {},
   "outputs": [
    {
     "name": "stdout",
     "output_type": "stream",
     "text": [
      "Vskills Certification\n"
     ]
    }
   ],
   "source": [
    "# re.sub(pattern, replacement, string)\n",
    "result = re.sub(r'Vskill','Vskills', 'Vskill Certification')\n",
    "print(result)"
   ]
  },
  {
   "cell_type": "code",
   "execution_count": 17,
   "metadata": {},
   "outputs": [
    {
     "name": "stdout",
     "output_type": "stream",
     "text": [
      "bob\n"
     ]
    }
   ],
   "source": [
    "# re.compile(pattern)\n",
    "pattern = re.compile('\\d')\n",
    "result = pattern.sub('','bob123')\n",
    "print(result)"
   ]
  },
  {
   "cell_type": "code",
   "execution_count": 43,
   "metadata": {},
   "outputs": [
    {
     "data": {
      "text/plain": [
       "'abc-12.3@gmail.com'"
      ]
     },
     "execution_count": 43,
     "metadata": {},
     "output_type": "execute_result"
    }
   ],
   "source": [
    "email= 'Hi! my email is : abc-12.3@gmail.com'\n",
    "match = re.search(r'[\\w.-]+@[\\w.-]+', email) # ''+'' used for one or more occurance of the pattern\n",
    "match.group()"
   ]
  },
  {
   "cell_type": "code",
   "execution_count": null,
   "metadata": {},
   "outputs": [],
   "source": []
  }
 ],
 "metadata": {
  "kernelspec": {
   "display_name": "Python 3",
   "language": "python",
   "name": "python3"
  },
  "language_info": {
   "codemirror_mode": {
    "name": "ipython",
    "version": 3
   },
   "file_extension": ".py",
   "mimetype": "text/x-python",
   "name": "python",
   "nbconvert_exporter": "python",
   "pygments_lexer": "ipython3",
   "version": "3.6.5"
  }
 },
 "nbformat": 4,
 "nbformat_minor": 2
}
